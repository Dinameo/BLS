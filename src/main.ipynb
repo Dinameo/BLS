{
 "cells": [
  {
   "cell_type": "code",
   "execution_count": 1,
   "metadata": {},
   "outputs": [],
   "source": [
    "import cv2\n",
    "import numpy as np\n",
    "import os\n",
    "import random"
   ]
  },
  {
   "cell_type": "code",
   "execution_count": null,
   "metadata": {},
   "outputs": [],
   "source": [
    "path = \"D:/Code/NHAP_MON_AI/Project/BLS/dataset/train\"\n",
    "path2 = \"D:/Code/NHAP_MON_AI/Project/BLS/dataset_copy/train\"\n",
    "ls = os.listdir(path)  \n",
    "for folder in ls:\n",
    "    path_file = os.listdir(f\"{path}/{folder}\")\n",
    "    for name in path_file:\n",
    "        path_img = f\"{path}/{folder}/{name}\"\n",
    "        image = cv2.imread(path_img)\n",
    "        image_gray = cv2.cvtColor(image, cv2.COLOR_BGR2GRAY)\n",
    "        image_gray = cv2.resize(image_gray, (75, 100), interpolation=cv2.INTER_AREA)\n",
    "        image_gray = image_gray.astype(np.float32)\n",
    "        target_folder = f\"{path2}/{folder}\"\n",
    "        if not os.path.exists(target_folder):\n",
    "            os.makedirs(target_folder)\n",
    "        cv2.imwrite(f\"{target_folder}/{name}\", image_gray)\n",
    "        "
   ]
  },
  {
   "cell_type": "code",
   "execution_count": 39,
   "metadata": {},
   "outputs": [],
   "source": [
    "char_to_num = {chr(i): i - ord('A') for i in range(ord('A'), ord('Z') + 1)}\n",
    "path2 = \"D:/Code/NHAP_MON_AI/Project/BLS/dataset_copy/train\"\n",
    "ls = os.listdir(path2)\n",
    "target = np.eye(len(ls))\n",
    "X = []\n",
    "Y = []\n",
    "for folder in ls:\n",
    "    path_file = os.listdir(f\"{path2}/{folder}\")\n",
    "    for name in path_file:\n",
    "        path_img = f\"{path2}/{folder}/{name}\"\n",
    "        image = cv2.imread(path_img, cv2.IMREAD_GRAYSCALE)\n",
    "        image = image.astype(np.float32)\n",
    "        image = cv2.normalize(image, image, 0, 1.0, cv2.NORM_MINMAX)\n",
    "        image = image.reshape((1, 7500))\n",
    "        # print(image)\n",
    "        image = image[0]\n",
    "        # print(image)\n",
    "        X.append(image)\n",
    "        Y.append(target[char_to_num[folder]])\n",
    "train_sample = zip(X, Y)\n",
    "train_sample = list(train_sample)\n",
    "random.shuffle(train_sample)\n",
    "X, Y = zip(*train_sample)\n",
    "X = np.array(X)\n",
    "Y = np.array(Y)\n"
   ]
  },
  {
   "cell_type": "code",
   "execution_count": null,
   "metadata": {},
   "outputs": [],
   "source": [
    "from sklearn.neural_network import MLPClassifier\n",
    "mlp = MLPClassifier(hidden_layer_sizes=(7000, 3000, 2000, 1000), activation='logistic', solver='adam',batch_size=30, max_iter=1000)\n",
    "mlp.fit(X,Y)\n"
   ]
  }
 ],
 "metadata": {
  "kernelspec": {
   "display_name": "base",
   "language": "python",
   "name": "python3"
  },
  "language_info": {
   "codemirror_mode": {
    "name": "ipython",
    "version": 3
   },
   "file_extension": ".py",
   "mimetype": "text/x-python",
   "name": "python",
   "nbconvert_exporter": "python",
   "pygments_lexer": "ipython3",
   "version": "3.12.4"
  }
 },
 "nbformat": 4,
 "nbformat_minor": 2
}
